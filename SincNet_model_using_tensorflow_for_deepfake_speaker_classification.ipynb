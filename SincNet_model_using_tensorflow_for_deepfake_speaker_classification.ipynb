{
  "cells": [
    {
      "cell_type": "code",
      "execution_count": null,
      "metadata": {
        "colab": {
          "base_uri": "https://localhost:8080/"
        },
        "id": "eV2objpNvtfc",
        "outputId": "e60f3735-7bf5-45b0-a194-844ecd4529a2"
      },
      "outputs": [
        {
          "name": "stdout",
          "output_type": "stream",
          "text": [
            "Collecting sincnet-tensorflow\n",
            "  Downloading sincnet-tensorflow-0.0.2.tar.gz (5.0 kB)\n",
            "  Preparing metadata (setup.py) ... \u001b[?25l\u001b[?25hdone\n",
            "Requirement already satisfied: numpy>=1.18.5 in /usr/local/lib/python3.10/dist-packages (from sincnet-tensorflow) (1.23.5)\n",
            "Requirement already satisfied: tensorflow>=2.2 in /usr/local/lib/python3.10/dist-packages (from sincnet-tensorflow) (2.15.0)\n",
            "Requirement already satisfied: absl-py>=1.0.0 in /usr/local/lib/python3.10/dist-packages (from tensorflow>=2.2->sincnet-tensorflow) (1.4.0)\n",
            "Requirement already satisfied: astunparse>=1.6.0 in /usr/local/lib/python3.10/dist-packages (from tensorflow>=2.2->sincnet-tensorflow) (1.6.3)\n",
            "Requirement already satisfied: flatbuffers>=23.5.26 in /usr/local/lib/python3.10/dist-packages (from tensorflow>=2.2->sincnet-tensorflow) (23.5.26)\n",
            "Requirement already satisfied: gast!=0.5.0,!=0.5.1,!=0.5.2,>=0.2.1 in /usr/local/lib/python3.10/dist-packages (from tensorflow>=2.2->sincnet-tensorflow) (0.5.4)\n",
            "Requirement already satisfied: google-pasta>=0.1.1 in /usr/local/lib/python3.10/dist-packages (from tensorflow>=2.2->sincnet-tensorflow) (0.2.0)\n",
            "Requirement already satisfied: h5py>=2.9.0 in /usr/local/lib/python3.10/dist-packages (from tensorflow>=2.2->sincnet-tensorflow) (3.9.0)\n",
            "Requirement already satisfied: libclang>=13.0.0 in /usr/local/lib/python3.10/dist-packages (from tensorflow>=2.2->sincnet-tensorflow) (16.0.6)\n",
            "Requirement already satisfied: ml-dtypes~=0.2.0 in /usr/local/lib/python3.10/dist-packages (from tensorflow>=2.2->sincnet-tensorflow) (0.2.0)\n",
            "Requirement already satisfied: opt-einsum>=2.3.2 in /usr/local/lib/python3.10/dist-packages (from tensorflow>=2.2->sincnet-tensorflow) (3.3.0)\n",
            "Requirement already satisfied: packaging in /usr/local/lib/python3.10/dist-packages (from tensorflow>=2.2->sincnet-tensorflow) (23.2)\n",
            "Requirement already satisfied: protobuf!=4.21.0,!=4.21.1,!=4.21.2,!=4.21.3,!=4.21.4,!=4.21.5,<5.0.0dev,>=3.20.3 in /usr/local/lib/python3.10/dist-packages (from tensorflow>=2.2->sincnet-tensorflow) (3.20.3)\n",
            "Requirement already satisfied: setuptools in /usr/local/lib/python3.10/dist-packages (from tensorflow>=2.2->sincnet-tensorflow) (67.7.2)\n",
            "Requirement already satisfied: six>=1.12.0 in /usr/local/lib/python3.10/dist-packages (from tensorflow>=2.2->sincnet-tensorflow) (1.16.0)\n",
            "Requirement already satisfied: termcolor>=1.1.0 in /usr/local/lib/python3.10/dist-packages (from tensorflow>=2.2->sincnet-tensorflow) (2.4.0)\n",
            "Requirement already satisfied: typing-extensions>=3.6.6 in /usr/local/lib/python3.10/dist-packages (from tensorflow>=2.2->sincnet-tensorflow) (4.5.0)\n",
            "Requirement already satisfied: wrapt<1.15,>=1.11.0 in /usr/local/lib/python3.10/dist-packages (from tensorflow>=2.2->sincnet-tensorflow) (1.14.1)\n",
            "Requirement already satisfied: tensorflow-io-gcs-filesystem>=0.23.1 in /usr/local/lib/python3.10/dist-packages (from tensorflow>=2.2->sincnet-tensorflow) (0.35.0)\n",
            "Requirement already satisfied: grpcio<2.0,>=1.24.3 in /usr/local/lib/python3.10/dist-packages (from tensorflow>=2.2->sincnet-tensorflow) (1.60.0)\n",
            "Requirement already satisfied: tensorboard<2.16,>=2.15 in /usr/local/lib/python3.10/dist-packages (from tensorflow>=2.2->sincnet-tensorflow) (2.15.1)\n",
            "Requirement already satisfied: tensorflow-estimator<2.16,>=2.15.0 in /usr/local/lib/python3.10/dist-packages (from tensorflow>=2.2->sincnet-tensorflow) (2.15.0)\n",
            "Requirement already satisfied: keras<2.16,>=2.15.0 in /usr/local/lib/python3.10/dist-packages (from tensorflow>=2.2->sincnet-tensorflow) (2.15.0)\n",
            "Requirement already satisfied: wheel<1.0,>=0.23.0 in /usr/local/lib/python3.10/dist-packages (from astunparse>=1.6.0->tensorflow>=2.2->sincnet-tensorflow) (0.42.0)\n",
            "Requirement already satisfied: google-auth<3,>=1.6.3 in /usr/local/lib/python3.10/dist-packages (from tensorboard<2.16,>=2.15->tensorflow>=2.2->sincnet-tensorflow) (2.17.3)\n",
            "Requirement already satisfied: google-auth-oauthlib<2,>=0.5 in /usr/local/lib/python3.10/dist-packages (from tensorboard<2.16,>=2.15->tensorflow>=2.2->sincnet-tensorflow) (1.2.0)\n",
            "Requirement already satisfied: markdown>=2.6.8 in /usr/local/lib/python3.10/dist-packages (from tensorboard<2.16,>=2.15->tensorflow>=2.2->sincnet-tensorflow) (3.5.2)\n",
            "Requirement already satisfied: requests<3,>=2.21.0 in /usr/local/lib/python3.10/dist-packages (from tensorboard<2.16,>=2.15->tensorflow>=2.2->sincnet-tensorflow) (2.31.0)\n",
            "Requirement already satisfied: tensorboard-data-server<0.8.0,>=0.7.0 in /usr/local/lib/python3.10/dist-packages (from tensorboard<2.16,>=2.15->tensorflow>=2.2->sincnet-tensorflow) (0.7.2)\n",
            "Requirement already satisfied: werkzeug>=1.0.1 in /usr/local/lib/python3.10/dist-packages (from tensorboard<2.16,>=2.15->tensorflow>=2.2->sincnet-tensorflow) (3.0.1)\n",
            "Requirement already satisfied: cachetools<6.0,>=2.0.0 in /usr/local/lib/python3.10/dist-packages (from google-auth<3,>=1.6.3->tensorboard<2.16,>=2.15->tensorflow>=2.2->sincnet-tensorflow) (5.3.2)\n",
            "Requirement already satisfied: pyasn1-modules>=0.2.1 in /usr/local/lib/python3.10/dist-packages (from google-auth<3,>=1.6.3->tensorboard<2.16,>=2.15->tensorflow>=2.2->sincnet-tensorflow) (0.3.0)\n",
            "Requirement already satisfied: rsa<5,>=3.1.4 in /usr/local/lib/python3.10/dist-packages (from google-auth<3,>=1.6.3->tensorboard<2.16,>=2.15->tensorflow>=2.2->sincnet-tensorflow) (4.9)\n",
            "Requirement already satisfied: requests-oauthlib>=0.7.0 in /usr/local/lib/python3.10/dist-packages (from google-auth-oauthlib<2,>=0.5->tensorboard<2.16,>=2.15->tensorflow>=2.2->sincnet-tensorflow) (1.3.1)\n",
            "Requirement already satisfied: charset-normalizer<4,>=2 in /usr/local/lib/python3.10/dist-packages (from requests<3,>=2.21.0->tensorboard<2.16,>=2.15->tensorflow>=2.2->sincnet-tensorflow) (3.3.2)\n",
            "Requirement already satisfied: idna<4,>=2.5 in /usr/local/lib/python3.10/dist-packages (from requests<3,>=2.21.0->tensorboard<2.16,>=2.15->tensorflow>=2.2->sincnet-tensorflow) (3.6)\n",
            "Requirement already satisfied: urllib3<3,>=1.21.1 in /usr/local/lib/python3.10/dist-packages (from requests<3,>=2.21.0->tensorboard<2.16,>=2.15->tensorflow>=2.2->sincnet-tensorflow) (2.0.7)\n",
            "Requirement already satisfied: certifi>=2017.4.17 in /usr/local/lib/python3.10/dist-packages (from requests<3,>=2.21.0->tensorboard<2.16,>=2.15->tensorflow>=2.2->sincnet-tensorflow) (2023.11.17)\n",
            "Requirement already satisfied: MarkupSafe>=2.1.1 in /usr/local/lib/python3.10/dist-packages (from werkzeug>=1.0.1->tensorboard<2.16,>=2.15->tensorflow>=2.2->sincnet-tensorflow) (2.1.3)\n",
            "Requirement already satisfied: pyasn1<0.6.0,>=0.4.6 in /usr/local/lib/python3.10/dist-packages (from pyasn1-modules>=0.2.1->google-auth<3,>=1.6.3->tensorboard<2.16,>=2.15->tensorflow>=2.2->sincnet-tensorflow) (0.5.1)\n",
            "Requirement already satisfied: oauthlib>=3.0.0 in /usr/local/lib/python3.10/dist-packages (from requests-oauthlib>=0.7.0->google-auth-oauthlib<2,>=0.5->tensorboard<2.16,>=2.15->tensorflow>=2.2->sincnet-tensorflow) (3.2.2)\n",
            "Building wheels for collected packages: sincnet-tensorflow\n",
            "  Building wheel for sincnet-tensorflow (setup.py) ... \u001b[?25l\u001b[?25hdone\n",
            "  Created wheel for sincnet-tensorflow: filename=sincnet_tensorflow-0.0.2-py3-none-any.whl size=5404 sha256=d762900cb6fd2101666c18b8aa4a03f8d2187a8f2ca16d836d61a20ada722cc2\n",
            "  Stored in directory: /root/.cache/pip/wheels/5b/33/d4/e06720531a144468feaef52783cc61e732bba7405780623fb3\n",
            "Successfully built sincnet-tensorflow\n",
            "Installing collected packages: sincnet-tensorflow\n",
            "Successfully installed sincnet-tensorflow-0.0.2\n"
          ]
        }
      ],
      "source": [
        "!pip install sincnet-tensorflow"
      ]
    },
    {
      "cell_type": "code",
      "execution_count": null,
      "metadata": {
        "colab": {
          "base_uri": "https://localhost:8080/"
        },
        "id": "kcM-Ye-J7oxG",
        "outputId": "925b97fa-a841-4b6b-e0cb-e002dc8fa33c"
      },
      "outputs": [
        {
          "name": "stdout",
          "output_type": "stream",
          "text": [
            "Epoch 1/20\n",
            "1/1 [==============================] - 5s 5s/step - loss: 0.5737 - accuracy: 0.7143 - val_loss: 2.2498 - val_accuracy: 0.0000e+00\n",
            "Epoch 2/20\n",
            "1/1 [==============================] - 0s 276ms/step - loss: 2.5023 - accuracy: 0.5000 - val_loss: 1.2556 - val_accuracy: 0.0000e+00\n",
            "Epoch 3/20\n",
            "1/1 [==============================] - 0s 276ms/step - loss: 1.2534 - accuracy: 0.6429 - val_loss: 1.1843 - val_accuracy: 0.0000e+00\n",
            "Epoch 4/20\n",
            "1/1 [==============================] - 0s 268ms/step - loss: 0.6001 - accuracy: 0.7143 - val_loss: 0.7842 - val_accuracy: 0.2500\n",
            "Epoch 5/20\n",
            "1/1 [==============================] - 0s 240ms/step - loss: 0.3272 - accuracy: 0.9286 - val_loss: 0.5696 - val_accuracy: 0.7500\n",
            "Epoch 6/20\n",
            "1/1 [==============================] - 0s 294ms/step - loss: 0.2515 - accuracy: 0.9286 - val_loss: 0.4590 - val_accuracy: 1.0000\n",
            "Epoch 7/20\n",
            "1/1 [==============================] - 0s 256ms/step - loss: 0.2191 - accuracy: 0.9286 - val_loss: 0.4166 - val_accuracy: 1.0000\n",
            "Epoch 8/20\n",
            "1/1 [==============================] - 0s 262ms/step - loss: 0.1761 - accuracy: 1.0000 - val_loss: 0.4184 - val_accuracy: 1.0000\n",
            "Epoch 9/20\n",
            "1/1 [==============================] - 0s 260ms/step - loss: 0.1445 - accuracy: 1.0000 - val_loss: 0.4088 - val_accuracy: 1.0000\n",
            "Epoch 10/20\n",
            "1/1 [==============================] - 0s 257ms/step - loss: 0.1242 - accuracy: 1.0000 - val_loss: 0.3943 - val_accuracy: 1.0000\n",
            "Epoch 11/20\n",
            "1/1 [==============================] - 0s 259ms/step - loss: 0.1064 - accuracy: 1.0000 - val_loss: 0.3862 - val_accuracy: 1.0000\n",
            "Epoch 12/20\n",
            "1/1 [==============================] - 0s 259ms/step - loss: 0.0928 - accuracy: 1.0000 - val_loss: 0.3771 - val_accuracy: 1.0000\n",
            "Epoch 13/20\n",
            "1/1 [==============================] - 0s 284ms/step - loss: 0.0828 - accuracy: 1.0000 - val_loss: 0.3642 - val_accuracy: 1.0000\n",
            "Epoch 14/20\n",
            "1/1 [==============================] - 0s 270ms/step - loss: 0.0746 - accuracy: 1.0000 - val_loss: 0.3519 - val_accuracy: 1.0000\n",
            "Epoch 15/20\n",
            "1/1 [==============================] - 0s 320ms/step - loss: 0.0673 - accuracy: 1.0000 - val_loss: 0.3424 - val_accuracy: 1.0000\n",
            "Epoch 16/20\n",
            "1/1 [==============================] - 0s 460ms/step - loss: 0.0604 - accuracy: 1.0000 - val_loss: 0.3351 - val_accuracy: 1.0000\n",
            "Epoch 17/20\n",
            "1/1 [==============================] - 0s 474ms/step - loss: 0.0539 - accuracy: 1.0000 - val_loss: 0.3281 - val_accuracy: 1.0000\n",
            "Epoch 18/20\n",
            "1/1 [==============================] - 0s 402ms/step - loss: 0.0483 - accuracy: 1.0000 - val_loss: 0.3222 - val_accuracy: 1.0000\n",
            "Epoch 19/20\n",
            "1/1 [==============================] - 0s 423ms/step - loss: 0.0439 - accuracy: 1.0000 - val_loss: 0.3174 - val_accuracy: 1.0000\n",
            "Epoch 20/20\n",
            "1/1 [==============================] - 0s 400ms/step - loss: 0.0404 - accuracy: 1.0000 - val_loss: 0.3130 - val_accuracy: 1.0000\n",
            "1/1 [==============================] - 0s 64ms/step - loss: 0.3130 - accuracy: 1.0000\n",
            "Test accuracy: 1.0\n"
          ]
        }
      ],
      "source": [
        "import numpy as np\n",
        "import tensorflow as tf\n",
        "import keras\n",
        "from tensorflow.keras.layers import Dense, Conv1D, LeakyReLU, BatchNormalization, Flatten, MaxPooling1D, Input\n",
        "from sincnet_tensorflow import SincConv1D, LayerNorm\n",
        "import librosa\n",
        "import os\n",
        "from sklearn.model_selection import train_test_split\n",
        "import matplotlib.pyplot as plt\n",
        "\n",
        "def create_sincnet_model():\n",
        "    inputs = Input((32000, 1))\n",
        "    sinc_layer = SincConv1D(N_filt=64, Filt_dim=129, fs=16000, stride=16, padding=\"SAME\")(inputs)\n",
        "    x = LayerNorm()(sinc_layer)\n",
        "    x = LeakyReLU(alpha=0.2)(x)\n",
        "    x = MaxPooling1D(pool_size=2)(x)\n",
        "\n",
        "    x = Conv1D(64, 3, strides=1, padding='valid')(x)\n",
        "    x = BatchNormalization(momentum=0.05)(x)\n",
        "    x = LeakyReLU(alpha=0.2)(x)\n",
        "    x = MaxPooling1D(pool_size=2)(x)\n",
        "\n",
        "    x = Conv1D(64, 3, strides=1, padding='valid')(x)\n",
        "    x = BatchNormalization(momentum=0.05)(x)\n",
        "    x = LeakyReLU(alpha=0.2)(x)\n",
        "    x = MaxPooling1D(pool_size=2)(x)\n",
        "\n",
        "    x = Conv1D(128, 3, strides=1, padding='valid')(x)\n",
        "    x = BatchNormalization(momentum=0.05)(x)\n",
        "    x = LeakyReLU(alpha=0.2)(x)\n",
        "    x = MaxPooling1D(pool_size=2)(x)\n",
        "\n",
        "    x = Conv1D(128, 3, strides=1, padding='valid')(x)\n",
        "    x = BatchNormalization(momentum=0.05)(x)\n",
        "    x = LeakyReLU(alpha=0.2)(x)\n",
        "    x = MaxPooling1D(pool_size=2)(x)\n",
        "\n",
        "    x = Flatten()(x)\n",
        "\n",
        "    x = Dense(256)(x)\n",
        "    x = BatchNormalization(momentum=0.05, epsilon=1e-5)(x)\n",
        "    x = LeakyReLU(alpha=0.2)(x)\n",
        "    prediction = Dense(1, activation='sigmoid')(x)\n",
        "    model = tf.keras.models.Model(inputs=inputs, outputs=prediction)\n",
        "    return model\n",
        "\n",
        "\n",
        "def load_audio_file(file_path):\n",
        "    y, sr = librosa.load(file_path, sr=16000)\n",
        "    if len(y) < 32000:\n",
        "        y = np.pad(y, (0, 32000 - len(y)), mode='constant')\n",
        "    else:\n",
        "        y = y[:32000]\n",
        "    return y / np.max(np.abs(y))\n",
        "\n",
        "real_audio_dir = '/content/drive/MyDrive/Real audio'\n",
        "fake_audio_dir = '/content/drive/MyDrive/Fake audio'\n",
        "\n",
        "real_audio_paths = [os.path.join(real_audio_dir, filename) for filename in os.listdir(real_audio_dir) if filename.endswith('.wav')]\n",
        "fake_audio_paths = [os.path.join(fake_audio_dir, filename) for filename in os.listdir(fake_audio_dir) if filename.endswith('.wav')]\n",
        "\n",
        "X = np.concatenate([load_audio_file(path) for path in real_audio_paths + fake_audio_paths])\n",
        "X = X.reshape(-1, 32000, 1)\n",
        "y = np.array([1] * len(real_audio_paths) + [0] * len(fake_audio_paths))\n",
        "\n",
        "train_X, test_X, train_y, test_y = train_test_split(X, y, test_size=0.2, random_state=42)\n",
        "\n",
        "train_ds = tf.data.Dataset.from_tensor_slices((train_X, train_y))\n",
        "train_ds = train_ds.shuffle(buffer_size=1024).batch(32)\n",
        "\n",
        "\n",
        "model = create_sincnet_model()\n",
        "model.compile(optimizer='adam', loss='binary_crossentropy', metrics=['accuracy'])\n",
        "\n",
        "model.fit(train_ds, epochs=20, validation_data=(test_X, test_y))\n",
        "model.save(\"my_model.h5\")\n",
        "\n",
        "test_loss, test_acc = model.evaluate(test_X, test_y)\n",
        "print('Test accuracy:', test_acc)"
      ]
    },
    {
      "cell_type": "code",
      "execution_count": null,
      "metadata": {
        "colab": {
          "background_save": true,
          "base_uri": "https://localhost:8080/",
          "height": 581
        },
        "id": "xkpZ-YwRy6Jx",
        "outputId": "a62da9f1-661b-4e68-b655-ca7762813f9d"
      },
      "outputs": [
        {
          "name": "stdout",
          "output_type": "stream",
          "text": [
            "1/1 [==============================] - 1s 708ms/step\n",
            "Predicted as fake audio\n"
          ]
        }
      ],
      "source": [
        "from sincnet_tensorflow import SincConv1D\n",
        "import keras.utils\n",
        "from sincnet_tensorflow import LayerNorm\n",
        "\n",
        "with keras.utils.custom_object_scope({'SincConv1D': SincConv1D, 'LayerNorm': LayerNorm}):\n",
        "    model = tf.keras.models.load_model('/content/my_model.h5')\n",
        "new_audio_file = '/content/fiza_cloned.wav'\n",
        "new_audio_data = load_audio_file(new_audio_file)\n",
        "new_audio_data = new_audio_data.reshape(1, 32000, 1)\n",
        "prediction = model.predict(new_audio_data)\n",
        "\n",
        "if prediction[0] > 0.5:\n",
        "    print(\"Predicted as real audio\")\n",
        "else:\n",
        "    print(\"Predicted as fake audio\")"
      ]
    },
    {
      "cell_type": "code",
      "execution_count": null,
      "metadata": {
        "colab": {
          "base_uri": "https://localhost:8080/",
          "height": 1000
        },
        "id": "V3TmTTKM2h3M",
        "outputId": "ec9a1ca1-feab-4f42-ef73-890a340ec488"
      },
      "outputs": [
        {
          "name": "stdout",
          "output_type": "stream",
          "text": [
            "Epoch 1/20\n",
            "1/1 [==============================] - 0s 328ms/step - loss: 0.0106 - accuracy: 1.0000 - val_loss: 0.1421 - val_accuracy: 1.0000\n",
            "Epoch 2/20\n",
            "1/1 [==============================] - 0s 272ms/step - loss: 0.0104 - accuracy: 1.0000 - val_loss: 0.1412 - val_accuracy: 1.0000\n",
            "Epoch 3/20\n",
            "1/1 [==============================] - 0s 267ms/step - loss: 0.0102 - accuracy: 1.0000 - val_loss: 0.1404 - val_accuracy: 1.0000\n",
            "Epoch 4/20\n",
            "1/1 [==============================] - 0s 259ms/step - loss: 0.0100 - accuracy: 1.0000 - val_loss: 0.1395 - val_accuracy: 1.0000\n",
            "Epoch 5/20\n",
            "1/1 [==============================] - 0s 254ms/step - loss: 0.0099 - accuracy: 1.0000 - val_loss: 0.1388 - val_accuracy: 1.0000\n",
            "Epoch 6/20\n",
            "1/1 [==============================] - 0s 274ms/step - loss: 0.0097 - accuracy: 1.0000 - val_loss: 0.1380 - val_accuracy: 1.0000\n",
            "Epoch 7/20\n",
            "1/1 [==============================] - 0s 360ms/step - loss: 0.0096 - accuracy: 1.0000 - val_loss: 0.1372 - val_accuracy: 1.0000\n",
            "Epoch 8/20\n",
            "1/1 [==============================] - 0s 384ms/step - loss: 0.0094 - accuracy: 1.0000 - val_loss: 0.1365 - val_accuracy: 1.0000\n",
            "Epoch 9/20\n",
            "1/1 [==============================] - 0s 435ms/step - loss: 0.0093 - accuracy: 1.0000 - val_loss: 0.1358 - val_accuracy: 1.0000\n",
            "Epoch 10/20\n",
            "1/1 [==============================] - 0s 426ms/step - loss: 0.0091 - accuracy: 1.0000 - val_loss: 0.1351 - val_accuracy: 1.0000\n",
            "Epoch 11/20\n",
            "1/1 [==============================] - 0s 430ms/step - loss: 0.0090 - accuracy: 1.0000 - val_loss: 0.1344 - val_accuracy: 1.0000\n",
            "Epoch 12/20\n",
            "1/1 [==============================] - 0s 410ms/step - loss: 0.0089 - accuracy: 1.0000 - val_loss: 0.1337 - val_accuracy: 1.0000\n",
            "Epoch 13/20\n",
            "1/1 [==============================] - 0s 456ms/step - loss: 0.0087 - accuracy: 1.0000 - val_loss: 0.1330 - val_accuracy: 1.0000\n",
            "Epoch 14/20\n",
            "1/1 [==============================] - 0s 446ms/step - loss: 0.0086 - accuracy: 1.0000 - val_loss: 0.1322 - val_accuracy: 1.0000\n",
            "Epoch 15/20\n",
            "1/1 [==============================] - 0s 442ms/step - loss: 0.0085 - accuracy: 1.0000 - val_loss: 0.1315 - val_accuracy: 1.0000\n",
            "Epoch 16/20\n",
            "1/1 [==============================] - 0s 392ms/step - loss: 0.0084 - accuracy: 1.0000 - val_loss: 0.1308 - val_accuracy: 1.0000\n",
            "Epoch 17/20\n",
            "1/1 [==============================] - 0s 373ms/step - loss: 0.0083 - accuracy: 1.0000 - val_loss: 0.1301 - val_accuracy: 1.0000\n",
            "Epoch 18/20\n",
            "1/1 [==============================] - 0s 266ms/step - loss: 0.0082 - accuracy: 1.0000 - val_loss: 0.1295 - val_accuracy: 1.0000\n",
            "Epoch 19/20\n",
            "1/1 [==============================] - 0s 268ms/step - loss: 0.0081 - accuracy: 1.0000 - val_loss: 0.1288 - val_accuracy: 1.0000\n",
            "Epoch 20/20\n",
            "1/1 [==============================] - 0s 260ms/step - loss: 0.0079 - accuracy: 1.0000 - val_loss: 0.1282 - val_accuracy: 1.0000\n"
          ]
        },
        {
          "data": {
            "image/png": "[encoded data removed]",
            "text/plain": [
              "<Figure size 640x480 with 1 Axes>"
            ]
          },
          "metadata": {},
          "output_type": "display_data"
        }
      ],
      "source": [
        "history = model.fit(train_ds, epochs=20, validation_data=(test_X, test_y))\n",
        "acc = history.history['accuracy']\n",
        "val_acc = history.history['val_accuracy']\n",
        "epochs = range(1, len(acc) + 1)\n",
        "plt.plot(epochs, acc, 'b-', label='Training accuracy')\n",
        "plt.plot(epochs, val_acc, 'r-', label='Testing accuracy')\n",
        "plt.title('Training and Testing Accuracy')\n",
        "plt.xlabel('Epochs')\n",
        "plt.ylabel('Accuracy')\n",
        "plt.legend()\n",
        "\n",
        "plt.show()  # Display the graph\n"
      ]
    }
  ],
  "metadata": {
    "colab": {
      "provenance": []
    },
    "kernelspec": {
      "display_name": "Python 3",
      "name": "python3"
    },
    "language_info": {
      "name": "python"
    }
  },
  "nbformat": 4,
  "nbformat_minor": 0
}